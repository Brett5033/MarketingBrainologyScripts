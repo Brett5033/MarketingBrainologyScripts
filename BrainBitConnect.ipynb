{
 "cells": [
  {
   "cell_type": "code",
   "execution_count": 3,
   "metadata": {},
   "outputs": [
    {
     "name": "stdout",
     "output_type": "stream",
     "text": [
      "Requirement already satisfied: pyneurosdk2 in c:\\users\\badam\\appdata\\local\\packages\\pythonsoftwarefoundation.python.3.11_qbz5n2kfra8p0\\localcache\\local-packages\\python311\\site-packages (1.0.15)\n",
      "Note: you may need to restart the kernel to use updated packages.\n"
     ]
    }
   ],
   "source": [
    "%pip install pyneurosdk2"
   ]
  },
  {
   "cell_type": "code",
   "execution_count": 6,
   "metadata": {},
   "outputs": [],
   "source": [
    "from neurosdk.scanner import Scanner\n",
    "from neurosdk.sensor import Sensor\n",
    "from neurosdk.brainbit_sensor import BrainBitSensor\n",
    "from neurosdk.cmn_types import *\n",
    "import time\n",
    "    \n"
   ]
  },
  {
   "cell_type": "code",
   "execution_count": 12,
   "metadata": {},
   "outputs": [
    {
     "name": "stdout",
     "output_type": "stream",
     "text": [
      "Searching for Sensor: time elapsed: 3 sec\n",
      "Searching for Sensor: time elapsed: 6 sec\n",
      "Failed to Find Sensor\n"
     ]
    }
   ],
   "source": [
    "# Scan For Device\n",
    "\n",
    "scanner = Scanner([SensorFamily.LEBrainBit])\n",
    "\n",
    "def sensorFound(sensors):\n",
    "   for i in range(len(sensors)):\n",
    "       print('Sensor %s' % sensors[i])\n",
    "\n",
    "scanner.sensorsChanged = sensorFound\n",
    "\n",
    "scanner.start()\n",
    "\n",
    "sensors = list()\n",
    "for i in range(2):\n",
    "    time.sleep(3)\n",
    "    print(f'Searching for Sensor: time elapsed: {(i + 1) * 3} sec')\n",
    "    sensors = scanner.sensors()\n",
    "    if (len(sensors) > 0):\n",
    "        break\n",
    "\n",
    "if (len(sensors) == 0):\n",
    "    print('Failed to Find Sensor')\n",
    "\n",
    "scanner.sensorsChanged = None\n",
    "del scanner"
   ]
  }
 ],
 "metadata": {
  "kernelspec": {
   "display_name": "Python 3",
   "language": "python",
   "name": "python3"
  },
  "language_info": {
   "codemirror_mode": {
    "name": "ipython",
    "version": 3
   },
   "file_extension": ".py",
   "mimetype": "text/x-python",
   "name": "python",
   "nbconvert_exporter": "python",
   "pygments_lexer": "ipython3",
   "version": "3.11.9"
  }
 },
 "nbformat": 4,
 "nbformat_minor": 2
}
